{
 "cells": [
  {
   "cell_type": "code",
   "execution_count": 1,
   "metadata": {},
   "outputs": [],
   "source": [
    "# Step 12 : updating the config.yaml file.\n",
    "# Whenever we need to work with data then it is usually present outside of our system and we can download it for our use.\n",
    "# When we download the data then it needs to be kept somewhere. So to do so, we create a folder called artifacts then create another\n",
    "# folder called data_ingestion and then download our zip file. \n",
    "# We then need to unzip this file. For this we will create an unzip function that will unzip the data and then we will store it in\n",
    "# this data_ingestion folder. \n",
    "\n",
    "# This is what we are doing in config.yaml file. We are creating a folder called artifacts. We have assiged a key name to this \n",
    "# called artifacts_root. Which means, whenever we call the artifacts_root then it will return artifacts. This is because yaml file\n",
    "# return key value pairs. \n",
    "\n",
    "# Then we created another key called data_ingestion which contains all the data ingestion related configuration. \n",
    "# So the firstly it will create a folder called data_ingestion under artifacts. Then we give the source_url.\n",
    "# Then we also define the local data file name using the local_data_file key. By this we are merely trying to rename wherver \n",
    "# Zip file is downloaded to \"data\".\n",
    "# We also provide the unzip folder location.\n",
    "# Checkout config.yaml file for all this implementation. \n",
    "# Step 12 completed."
   ]
  },
  {
   "cell_type": "code",
   "execution_count": 2,
   "metadata": {},
   "outputs": [],
   "source": [
    "# Step 13: Schema.yaml file.\n",
    "# Next step in our workflows is to update the schema.yaml file. \n",
    "# We need to define our schema here. We can get the schema reference from df.info function in pandas. \n",
    "# We need to divide this file into two parts = Columns and Target Column\n",
    "# So structure of this schema file:\n",
    "# Columns\n",
    "# column name: data type\n",
    "# Target column\n",
    "# name: column name\n",
    "# We will then use this yaml file for validation purpose to confirm that we have all the columns that are required in our dataset.\n",
    "# Go to schema.yaml file to understand how this is prepared. \n",
    "# Step 13 Completed"
   ]
  },
  {
   "cell_type": "code",
   "execution_count": 3,
   "metadata": {},
   "outputs": [],
   "source": [
    "# Step 14: Updating the params.yaml file. \n",
    "# Initially we will not have anything here. But we cannot keep this file empty as it will throw an error when we will try to execute.\n",
    "# To prevent this we will just write below:\n",
    "# key: val \n",
    "# as dummy place holders.\n",
    "# Step 14: Completed"
   ]
  },
  {
   "cell_type": "code",
   "execution_count": 4,
   "metadata": {},
   "outputs": [],
   "source": [
    "# Step 15: Updating Entity\n",
    "# In this notebook find the present working directory using the below command\n",
    "# %pwd\n",
    "# It will give path till /research as the notebook is created in /research directory.\n",
    "# If we need to move on position up then we can use the following command\n",
    "# os.chdir(\"../\")\n",
    "# Now if you do %pwd then it will give path till /ETE.\n",
    "# Entity is nothing but return type of a function. "
   ]
  },
  {
   "cell_type": "code",
   "execution_count": 5,
   "metadata": {},
   "outputs": [
    {
     "data": {
      "text/plain": [
       "'c:\\\\Users\\\\RadhikaMaheshwari\\\\Desktop\\\\Test\\\\DeepLearning\\\\ETE\\\\research'"
      ]
     },
     "execution_count": 5,
     "metadata": {},
     "output_type": "execute_result"
    }
   ],
   "source": [
    "%pwd"
   ]
  },
  {
   "cell_type": "code",
   "execution_count": 6,
   "metadata": {},
   "outputs": [],
   "source": [
    "import os\n",
    "os.chdir(\"../\")"
   ]
  },
  {
   "cell_type": "code",
   "execution_count": 7,
   "metadata": {},
   "outputs": [
    {
     "data": {
      "text/plain": [
       "'c:\\\\Users\\\\RadhikaMaheshwari\\\\Desktop\\\\Test\\\\DeepLearning\\\\ETE'"
      ]
     },
     "execution_count": 7,
     "metadata": {},
     "output_type": "execute_result"
    }
   ],
   "source": [
    "%pwd"
   ]
  },
  {
   "cell_type": "code",
   "execution_count": 8,
   "metadata": {},
   "outputs": [],
   "source": [
    "from dataclasses import dataclass\n",
    "from pathlib import Path\n",
    "\n",
    "# In the code below, we are definfing the datatype of all the key value pairs in the config.yaml file for data_ingestion. \n",
    "@dataclass(frozen=True)\n",
    "class DataIngestionConfig:\n",
    "    root_dir: Path\n",
    "    source_URL: str \n",
    "    local_data_file: Path\n",
    "    unzip_dir: Path"
   ]
  },
  {
   "cell_type": "code",
   "execution_count": 9,
   "metadata": {},
   "outputs": [],
   "source": [
    "# Step 15 Completed."
   ]
  },
  {
   "cell_type": "code",
   "execution_count": 10,
   "metadata": {},
   "outputs": [],
   "source": [
    "# Step 16: Update configuration manager in src config. \n",
    "# Configuration manager will return file path etc in one path.\n",
    "\n",
    "# For doing this, we will first need to get the file path. To get the file path, we will first go to __init__.py file in constants\n",
    "# and then we will define the paths there so that our configuration manager can then fetch it. \n",
    "# Go to constants and checkout code. "
   ]
  },
  {
   "cell_type": "code",
   "execution_count": 11,
   "metadata": {},
   "outputs": [],
   "source": [
    "from mlProject.constants import *\n",
    "from mlProject.utils.common import read_yaml, create_directories"
   ]
  },
  {
   "cell_type": "code",
   "execution_count": 12,
   "metadata": {},
   "outputs": [],
   "source": [
    "class ConfigurationManager:\n",
    "    def __init__(\n",
    "        self,\n",
    "        # ALl of these paths are coming from the constants package that we have imported. So our code is able to understand what\n",
    "        # CONFIG_FILE_PATH is when we are trying to reference it.\n",
    "        config_filepath = CONFIG_FILE_PATH,\n",
    "        params_filepath = PARAMS_FILE_PATH,\n",
    "        schema_filepath = SCHEMA_FILE_PATH\n",
    "    ):\n",
    "        # Now we need to read these yaml files. So above we have imported the utils.common package where our read_yaml function is \n",
    "        # defined so we are going to use it. \n",
    "        logger.info(f\"Config file path is {config_filepath}\")\n",
    "        self.config = read_yaml(config_filepath)\n",
    "        self.params = read_yaml(params_filepath)\n",
    "        self.schema = read_yaml(schema_filepath)\n",
    "\n",
    "        # Lastly in the config.yaml file we needed to create directories too so we are going to use the create_directories\n",
    "        # function from the common package. Self.config because we have defined a variable above self.config which is reading the\n",
    "        # config_filepath. So this means this will have all the methods and variables of the config_yaml file which is \n",
    "        # artifacts_root.\n",
    "        create_directories([self.config.artifacts_root])\n",
    "    \n",
    "    # Below we have written DataIngestionConfig as return type as we have already defined this above. Now what this will do is\n",
    "    # it will only return the items which we have mentioned above. \n",
    "    def get_data_ingestion_config(self) -> DataIngestionConfig:\n",
    "        # now we have already created self.config above in the construtor. This is able to read everything that is present in\n",
    "        # the config.yaml file. We now are using it to get the data.ingestion part. Just above, we used it to read the\n",
    "        # artifacts_root part and create that directory. \n",
    "        config = self.config.data_ingestion\n",
    "\n",
    "        # now we need to create the data_ingestion directory under the artifacts directory.\n",
    "        # we are passing this as list as this is the format expected in our function defined in common\n",
    "        create_directories([config.root_dir]) \n",
    "\n",
    "        # once this is done, we are returning everything in data_ingestion\n",
    "        data_ingestion_config = DataIngestionConfig(\n",
    "            root_dir = config.root_dir,\n",
    "            source_URL=config.source_URL,\n",
    "            local_data_file = config.local_data_file,\n",
    "            unzip_dir=config.unzip_dir\n",
    "        )\n",
    "\n",
    "        return data_ingestion_config\n"
   ]
  },
  {
   "cell_type": "code",
   "execution_count": 13,
   "metadata": {},
   "outputs": [],
   "source": [
    "# step 16 complete"
   ]
  },
  {
   "cell_type": "code",
   "execution_count": 14,
   "metadata": {},
   "outputs": [],
   "source": [
    "# Step 17. We need to update components. \n",
    "# now we need to create a data ingestion component. For this, we will again create a class\n",
    "\n",
    "import os\n",
    "# using the request data we will be able to download the data from url itself. \n",
    "import urllib.request as request\n",
    "# with the help of zipfile package, we will be able to unzip the file. \n",
    "import zipfile\n",
    "from mlProject import logger\n",
    "# We are using this file to check the size of the file downloaded.\n",
    "from mlProject.utils.common import get_size"
   ]
  },
  {
   "cell_type": "code",
   "execution_count": 19,
   "metadata": {},
   "outputs": [],
   "source": [
    "# defining data ingestion class\n",
    "class DataIngestion:\n",
    "    # first we will pass the DataIngestionConfig that we have received from the configuration manager to constructor.\n",
    "    def __init__(self, config:DataIngestionConfig):\n",
    "        self.config = config\n",
    "     \n",
    "    # now first we are downloading the file\n",
    "    def download_file(self):\n",
    "        #In the if function, we are saying that if the local_data_path \n",
    "        if not os.path.exists(self.config.local_data_file):\n",
    "            filename, headers = request.urlretrieve(\n",
    "                url = self.config.source_URL,\n",
    "                filename = self.config.local_data_file\n",
    "            )\n",
    "            logger.info(f\"{filename} download! with the info \\n {headers}\")\n",
    "        else:\n",
    "            logger.info(f\"File already exists of size: {get_size(Path(self.config.local_data_file))}\")\n",
    "\n",
    "    # Now once the data is downloaded, we need to extract the zip file\n",
    "    def extract_zip_file(self):\n",
    "        \"\"\"\n",
    "            zip_file_path: str\n",
    "            Extracts the zip file into data directory\n",
    "            Function returns none\n",
    "        \"\"\"\n",
    "        unzip_path = self.config.unzip_dir\n",
    "        os.makedirs(unzip_path, exist_ok=True)\n",
    "        with zipfile.ZipFile(self.config.local_data_file,'r') as zip_ref:\n",
    "            zip_ref.extractall(unzip_path)"
   ]
  },
  {
   "cell_type": "code",
   "execution_count": 20,
   "metadata": {},
   "outputs": [],
   "source": [
    "# Step 17 Complete."
   ]
  },
  {
   "cell_type": "code",
   "execution_count": 21,
   "metadata": {},
   "outputs": [],
   "source": [
    "# Step 18: Update Pipeline\n",
    "# Pipleine is just a step to call methods to determine which method should be called first and then after.\n",
    "# Like in above case, we first need to download the data and then we need to unzip it. \n",
    "# In pipeline, we mention the flow of function calls. "
   ]
  },
  {
   "cell_type": "code",
   "execution_count": 22,
   "metadata": {},
   "outputs": [
    {
     "name": "stdout",
     "output_type": "stream",
     "text": [
      "[2024-05-21 21:19:34,493: INFO: 3393835054: Config file path is config\\config.yaml]\n",
      "[2024-05-21 21:19:34,496: INFO: common: yaml file: config\\config.yaml loaded successfully]\n",
      "[2024-05-21 21:19:34,498: INFO: common: yaml file: params.yaml loaded successfully]\n",
      "[2024-05-21 21:19:34,503: INFO: common: yaml file: schema.yaml loaded successfully]\n",
      "[2024-05-21 21:19:34,505: INFO: common: Created Directory at: artifacts]\n",
      "[2024-05-21 21:19:34,507: INFO: common: Created Directory at: artifacts/data_ingestion]\n",
      "[2024-05-21 21:19:36,037: INFO: 530598795: artifacts/data_ingestion/data.zip download! with the info \n",
      " Connection: close\n",
      "Content-Length: 26148\n",
      "Cache-Control: max-age=300\n",
      "Content-Security-Policy: default-src 'none'; style-src 'unsafe-inline'; sandbox\n",
      "Content-Type: application/zip\n",
      "ETag: \"2651a00c9b029e20e8a4b41aa35eb1eebca07987c66560680e0679f37f97af83\"\n",
      "Strict-Transport-Security: max-age=31536000\n",
      "X-Content-Type-Options: nosniff\n",
      "X-Frame-Options: deny\n",
      "X-XSS-Protection: 1; mode=block\n",
      "X-GitHub-Request-Id: 747E:CC991:3512F1:42AC74:664C8346\n",
      "Accept-Ranges: bytes\n",
      "Date: Tue, 21 May 2024 11:19:38 GMT\n",
      "Via: 1.1 varnish\n",
      "X-Served-By: cache-syd10153-SYD\n",
      "X-Cache: MISS\n",
      "X-Cache-Hits: 0\n",
      "X-Timer: S1716290378.713228,VS0,VE370\n",
      "Vary: Authorization,Accept-Encoding,Origin\n",
      "Access-Control-Allow-Origin: *\n",
      "Cross-Origin-Resource-Policy: cross-origin\n",
      "X-Fastly-Request-ID: eaf9bf86313e891302a2e5cb207630bdcd0c6673\n",
      "Expires: Tue, 21 May 2024 11:24:38 GMT\n",
      "Source-Age: 0\n",
      "\n",
      "]\n"
     ]
    }
   ],
   "source": [
    "try:\n",
    "    config = ConfigurationManager()\n",
    "    data_ingestion_config = config.get_data_ingestion_config()\n",
    "    data_ingestion = DataIngestion(config=data_ingestion_config)\n",
    "    data_ingestion.download_file()\n",
    "    data_ingestion.extract_zip_file()\n",
    "except Exception as e:\n",
    "    raise e"
   ]
  },
  {
   "cell_type": "code",
   "execution_count": 23,
   "metadata": {},
   "outputs": [],
   "source": [
    "# step 18 completed. Now you can see a folder called artifacts got created. In that you can see a folder called data ingestion. \n",
    "# data.zip has been downloaded. And our data is also unzipped. "
   ]
  },
  {
   "cell_type": "code",
   "execution_count": null,
   "metadata": {},
   "outputs": [],
   "source": [
    "# Now we need to convert all of this into modular coding as currently we have done everything in jupyter notebook.\n",
    "# We are going to just copy paste the info. "
   ]
  }
 ],
 "metadata": {
  "kernelspec": {
   "display_name": "mlproj",
   "language": "python",
   "name": "python3"
  },
  "language_info": {
   "codemirror_mode": {
    "name": "ipython",
    "version": 3
   },
   "file_extension": ".py",
   "mimetype": "text/x-python",
   "name": "python",
   "nbconvert_exporter": "python",
   "pygments_lexer": "ipython3",
   "version": "3.8.19"
  }
 },
 "nbformat": 4,
 "nbformat_minor": 2
}
